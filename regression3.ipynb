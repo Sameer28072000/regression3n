{
 "cells": [
  {
   "cell_type": "markdown",
   "id": "6e028cd5-6d1d-4605-be2a-ea796a6f1d9f",
   "metadata": {},
   "source": [
    "Q1. What is Ridge Regression, and how does it differ from ordinary least squares regression?"
   ]
  },
  {
   "cell_type": "code",
   "execution_count": null,
   "id": "25cde751-f966-4acd-8620-a99f8d24a9d9",
   "metadata": {},
   "outputs": [],
   "source": [
    "Ans:-Ridge regularization is technique to reduce overfitting.\n",
    "     OLS(ordinary least square) goal is to minimize the sum of squared residuals between the predicted values and the actual values.\n",
    "     OLS method that provide the best fit to the data without restriction."
   ]
  },
  {
   "cell_type": "markdown",
   "id": "4d930a87-1590-49d0-baeb-c6ed2807e710",
   "metadata": {},
   "source": [
    "Q2. What are the assumptions of Ridge Regression?"
   ]
  },
  {
   "cell_type": "code",
   "execution_count": null,
   "id": "46d9c283-a756-4a2f-abcc-e3b6372a4bff",
   "metadata": {},
   "outputs": [],
   "source": [
    "Ans:-Ridge regularization is technique to reduce overfitting.\n",
    "      i.linearity\n",
    "       ii.independence\n",
    "        iii.No multicollinearity\n",
    "        iv.Feature Scaling"
   ]
  },
  {
   "cell_type": "markdown",
   "id": "f0e4cead-cbd2-4a70-a68f-d2d552e2eace",
   "metadata": {},
   "source": [
    "Q3. How do you select the value of the tuning parameter (lambda) in Ridge Regression?"
   ]
  },
  {
   "cell_type": "code",
   "execution_count": null,
   "id": "6f83ef2a-5e43-4ce8-9a15-5f6bec424479",
   "metadata": {},
   "outputs": [],
   "source": [
    "Ans:-the tuning parameter (lambda) in Ridge Regression\n",
    "     i.Cross validation\n",
    "     ii.Grid Seacrch CV\n",
    "      \n",
    "    the tuning parameter (lambda) in Ridge Regression depends on the specific dataset & goal of the analysis.\n",
    "        "
   ]
  },
  {
   "cell_type": "markdown",
   "id": "527cdff6-b9e4-42cd-95cf-5de793c4e86c",
   "metadata": {},
   "source": [
    "Q4. Can Ridge Regression be used for feature selection? If yes, how?"
   ]
  },
  {
   "cell_type": "code",
   "execution_count": null,
   "id": "1aa458bb-d3cc-4a9e-a370-19802441a637",
   "metadata": {},
   "outputs": [],
   "source": [
    "Ans:- Ridge Regression be used for feature selection but it does not perform feature selection \n",
    "      some technique like lasso regularization."
   ]
  },
  {
   "cell_type": "markdown",
   "id": "0e5c0419-7a26-4ec3-b567-a17de7da5ec9",
   "metadata": {},
   "source": [
    "Q5. How does the Ridge Regression model perform in the presence of multicollinearity?"
   ]
  },
  {
   "cell_type": "code",
   "execution_count": null,
   "id": "21748296-e4a0-4210-9a57-9caee66ff8db",
   "metadata": {},
   "outputs": [],
   "source": [
    "Ans:-multicollinearity occurs when there is high correlation with the predictor variable in regression model.\n",
    "     muticollinearity introducing a penalty term that limits the magnitude of the coefficients."
   ]
  },
  {
   "cell_type": "markdown",
   "id": "a70db2f7-e86c-45a5-9451-e858c25bf557",
   "metadata": {},
   "source": [
    "Q6. Can Ridge Regression handle both categorical and continuous independent variables?"
   ]
  },
  {
   "cell_type": "code",
   "execution_count": null,
   "id": "a727ba6d-5755-4bf6-8aa5-6f173622c809",
   "metadata": {},
   "outputs": [],
   "source": [
    "Ans:-Ridge Regression can handle both categorical and continuous independent variables.\n",
    "     but the categorical variable convert into numerical variable using one-hot encoding."
   ]
  },
  {
   "cell_type": "markdown",
   "id": "7955d374-489f-4046-b8a7-05b8f033b6cd",
   "metadata": {},
   "source": [
    "Q7. How do you interpret the coefficients of Ridge Regression?"
   ]
  },
  {
   "cell_type": "code",
   "execution_count": null,
   "id": "8aeac92a-5fda-405e-8c7b-69d25b0b9974",
   "metadata": {},
   "outputs": [],
   "source": [
    "Ans:- interpret the coefficients of Ridge Regression is similar to the  interpret the coefficients of OLS regression. \n",
    "      The interpretation may vary depending on the specific encoding used for categorical variables."
   ]
  },
  {
   "cell_type": "markdown",
   "id": "91152b35-8651-4347-95a9-aa01894f8a8a",
   "metadata": {},
   "source": [
    "Q8. Can Ridge Regression be used for time-series data analysis? If yes, how?"
   ]
  },
  {
   "cell_type": "code",
   "execution_count": null,
   "id": "2a06285e-9949-4de2-bd17-f2a8d585097a",
   "metadata": {},
   "outputs": [],
   "source": [
    "Ans:-Yes, Ridge Regression can be used for time-series data analysis.\n",
    "     Ridge Regression can be applied to time-series data, \n",
    "       it's important to note that there are other specialized time-series models,\n",
    "    such as autoregressive integrated moving average (ARIMA) or seasonal ARIMA (SARIMA)"
   ]
  }
 ],
 "metadata": {
  "kernelspec": {
   "display_name": "Python 3 (ipykernel)",
   "language": "python",
   "name": "python3"
  },
  "language_info": {
   "codemirror_mode": {
    "name": "ipython",
    "version": 3
   },
   "file_extension": ".py",
   "mimetype": "text/x-python",
   "name": "python",
   "nbconvert_exporter": "python",
   "pygments_lexer": "ipython3",
   "version": "3.10.8"
  }
 },
 "nbformat": 4,
 "nbformat_minor": 5
}
